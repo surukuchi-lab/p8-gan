{
 "cells": [
  {
   "cell_type": "code",
   "execution_count": 1,
   "id": "8daa2ce6-8c6a-4281-87f5-4d65a241f859",
   "metadata": {},
   "outputs": [],
   "source": [
    "from sine_generation import *\n",
    "from ft_analysis import *"
   ]
  },
  {
   "cell_type": "code",
   "execution_count": 2,
   "id": "d851fd60-9fa6-493e-a828-cc2dd1795f5d",
   "metadata": {},
   "outputs": [
    {
     "data": {
      "image/png": "[encoded data removed]",
      "text/plain": [
       "<Figure size 640x480 with 1 Axes>"
      ]
     },
     "metadata": {},
     "output_type": "display_data"
    },
    {
     "name": "stdout",
     "output_type": "stream",
     "text": [
      "0.9566670464194729 >= 0.01 --- Likely Gaussian Distribution\n",
      "The distribution has mean 5.074272000000001 and standard deviation 0.8943704948263892\n"
     ]
    },
    {
     "ename": "Exception",
     "evalue": "Less than 2 samples per cycle. Choose a different frequency or sampling rate.",
     "output_type": "error",
     "traceback": [
      "\u001b[1;31m---------------------------------------------------------------------------\u001b[0m",
      "\u001b[1;31mException\u001b[0m                                 Traceback (most recent call last)",
      "Cell \u001b[1;32mIn[2], line 7\u001b[0m\n\u001b[0;32m      3\u001b[0m data \u001b[38;5;241m=\u001b[39m sine_data_generation(samples, seq_len, s_rate, dim, mean\u001b[38;5;241m=\u001b[39m\u001b[38;5;241m5\u001b[39m, sd\u001b[38;5;241m=\u001b[39m\u001b[38;5;241m2\u001b[39m) \u001b[38;5;66;03m# works\u001b[39;00m\n\u001b[0;32m      5\u001b[0m \u001b[38;5;28;01massert\u001b[39;00m fidelity_analysis(data, samples, seq_len, s_rate, dim, unnorm\u001b[38;5;241m=\u001b[39m\u001b[38;5;28;01mTrue\u001b[39;00m, plot\u001b[38;5;241m=\u001b[39m\u001b[38;5;28;01mTrue\u001b[39;00m, tol\u001b[38;5;241m=\u001b[39m\u001b[38;5;241m0.01\u001b[39m) \u001b[38;5;66;03m# test Gaussian\u001b[39;00m\n\u001b[1;32m----> 7\u001b[0m data \u001b[38;5;241m=\u001b[39m \u001b[43msine_data_generation\u001b[49m\u001b[43m(\u001b[49m\u001b[43msamples\u001b[49m\u001b[43m,\u001b[49m\u001b[43m \u001b[49m\u001b[43mseq_len\u001b[49m\u001b[43m,\u001b[49m\u001b[43m \u001b[49m\u001b[38;5;241;43m1.0\u001b[39;49m\u001b[43m,\u001b[49m\u001b[43m \u001b[49m\u001b[43mdim\u001b[49m\u001b[43m,\u001b[49m\u001b[43m \u001b[49m\u001b[43mmean\u001b[49m\u001b[38;5;241;43m=\u001b[39;49m\u001b[38;5;241;43m5\u001b[39;49m\u001b[43m,\u001b[49m\u001b[43m \u001b[49m\u001b[43msd\u001b[49m\u001b[38;5;241;43m=\u001b[39;49m\u001b[38;5;241;43m1\u001b[39;49m\u001b[43m)\u001b[49m \u001b[38;5;66;03m# insufficent samples per cycle exception\u001b[39;00m\n",
      "File \u001b[1;32m~\\repos\\p8-gan\\sine_generation.py:11\u001b[0m, in \u001b[0;36msine_data_generation\u001b[1;34m(n_samples, seq_len, s_rate, dim, mean, sd)\u001b[0m\n\u001b[0;32m      8\u001b[0m data \u001b[38;5;241m=\u001b[39m []\n\u001b[0;32m     10\u001b[0m \u001b[38;5;28;01mif\u001b[39;00m \u001b[38;5;129;01mnot\u001b[39;00m \u001b[38;5;241m1\u001b[39m\u001b[38;5;241m/\u001b[39m((mean \u001b[38;5;241m+\u001b[39m \u001b[38;5;241m3\u001b[39m\u001b[38;5;241m*\u001b[39msd) \u001b[38;5;241m*\u001b[39m \u001b[38;5;241m2\u001b[39m) \u001b[38;5;241m*\u001b[39m \u001b[38;5;241m1\u001b[39m\u001b[38;5;241m/\u001b[39ms_rate \u001b[38;5;241m>\u001b[39m\u001b[38;5;241m=\u001b[39m \u001b[38;5;241m1\u001b[39m:\n\u001b[1;32m---> 11\u001b[0m \t\u001b[38;5;28;01mraise\u001b[39;00m \u001b[38;5;167;01mException\u001b[39;00m(\u001b[38;5;124m\"\u001b[39m\u001b[38;5;124mLess than 2 samples per cycle. Choose a different frequency or sampling rate.\u001b[39m\u001b[38;5;124m\"\u001b[39m)\n\u001b[0;32m     13\u001b[0m \u001b[38;5;28;01mfor\u001b[39;00m _ \u001b[38;5;129;01min\u001b[39;00m \u001b[38;5;28mrange\u001b[39m(n_samples):\n\u001b[0;32m     15\u001b[0m \tseq \u001b[38;5;241m=\u001b[39m []\n",
      "\u001b[1;31mException\u001b[0m: Less than 2 samples per cycle. Choose a different frequency or sampling rate."
     ]
    }
   ],
   "source": [
    "samples, seq_len, s_rate, dim = init_standard_parameters()\n",
    "\n",
    "data = sine_data_generation(samples, seq_len, s_rate, dim, mean=5, sd=2) # works\n",
    "\n",
    "assert fidelity_analysis(data, samples, seq_len, s_rate, dim, unnorm=True, plot=True, tol=0.01) # test Gaussian\n",
    "\n",
    "data = sine_data_generation(samples, seq_len, 1.0, dim, mean=5, sd=1) # insufficent samples per cycle exception"
   ]
  },
  {
   "cell_type": "code",
   "execution_count": null,
   "id": "5654f780-96c5-4b49-8e64-7921496d36bd",
   "metadata": {},
   "outputs": [],
   "source": []
  }
 ],
 "metadata": {
  "kernelspec": {
   "display_name": "Python 3 (ipykernel)",
   "language": "python",
   "name": "python3"
  },
  "language_info": {
   "codemirror_mode": {
    "name": "ipython",
    "version": 3
   },
   "file_extension": ".py",
   "mimetype": "text/x-python",
   "name": "python",
   "nbconvert_exporter": "python",
   "pygments_lexer": "ipython3",
   "version": "3.12.0"
  }
 },
 "nbformat": 4,
 "nbformat_minor": 5
}
