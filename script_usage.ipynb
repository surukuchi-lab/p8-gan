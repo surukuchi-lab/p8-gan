{
 "cells": [
  {
   "cell_type": "code",
   "execution_count": 1,
   "id": "8daa2ce6-8c6a-4281-87f5-4d65a241f859",
   "metadata": {},
   "outputs": [],
   "source": [
    "from sine_generation import *\n",
    "from ft_analysis import *"
   ]
  },
  {
   "cell_type": "code",
   "execution_count": 2,
   "id": "d851fd60-9fa6-493e-a828-cc2dd1795f5d",
   "metadata": {},
   "outputs": [
    {
     "name": "stdout",
     "output_type": "stream",
     "text": [
      "250.0\n",
      "Data generation...\n",
      "Fourier analysis...\n",
      "Completed 0.00%\n",
      "Completed 10.00%\n",
      "Completed 20.00%\n",
      "Completed 30.00%\n",
      "Completed 40.00%\n",
      "Completed 50.00%\n",
      "Completed 60.00%\n",
      "Completed 70.00%\n",
      "Completed 80.00%\n",
      "Completed 90.00%\n"
     ]
    },
    {
     "data": {
      "image/png": "[encoded data removed]",
      "text/plain": [
       "<Figure size 640x480 with 1 Axes>"
      ]
     },
     "metadata": {},
     "output_type": "display_data"
    },
    {
     "name": "stdout",
     "output_type": "stream",
     "text": [
      "0.29170643001605767 >= 0.01 --- Likely Gaussian Distribution\n",
      "The distribution has mean 1002.0760399999999 and standard deviation 20.832651894523654\n"
     ]
    }
   ],
   "source": [
    "#samples, seq_len, s_rate, dim = init_standard_parameters()\n",
    "f = 1000 # target frequency\n",
    "waves=200 # number of waves\n",
    "samples=1e6 # number of samples per wave\n",
    "cs_ratio = 1/4 # cycles / sample\n",
    "cycles=cs_ratio*samples # number of cycles\n",
    "seq_len=cycles/f # length of sequence\n",
    "print(seq_len)\n",
    "dim=1\n",
    "\n",
    "print(\"Data generation...\")\n",
    "data = sine_data_generation(waves=waves, samples=samples, seq_len=seq_len, cycles=cycles, dim=dim) # data generation\n",
    "\n",
    "#print(\"Retrieving sine wave...\")\n",
    "#example = 2*np.transpose(data[0])-1\n",
    "#t = np.linspace(0, seq_len, len(example))\n",
    "#print(\"Plotting sine wave...\")\n",
    "#plt.plot(t, example)\n",
    "#plt.show()\n",
    "\n",
    "print(\"Fourier analysis...\")\n",
    "assert fidelity_analysis(data, seq_len=seq_len, samples=samples, cycles=cycles, unnorm=True, plot=True, tol=0.01) # test Gaussian"
   ]
  },
  {
   "cell_type": "code",
   "execution_count": null,
   "id": "e8a5bde4-2227-4202-9679-60c6a5b83d60",
   "metadata": {},
   "outputs": [],
   "source": []
  }
 ],
 "metadata": {
  "kernelspec": {
   "display_name": "Python 3 (ipykernel)",
   "language": "python",
   "name": "python3"
  },
  "language_info": {
   "codemirror_mode": {
    "name": "ipython",
    "version": 3
   },
   "file_extension": ".py",
   "mimetype": "text/x-python",
   "name": "python",
   "nbconvert_exporter": "python",
   "pygments_lexer": "ipython3",
   "version": "3.12.0"
  }
 },
 "nbformat": 4,
 "nbformat_minor": 5
}
