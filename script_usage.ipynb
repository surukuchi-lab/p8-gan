{
 "cells": [
  {
   "cell_type": "code",
   "execution_count": 1,
   "id": "8daa2ce6-8c6a-4281-87f5-4d65a241f859",
   "metadata": {},
   "outputs": [],
   "source": [
    "from sine_generation import *\n",
    "from ft_analysis import *\n"
   ]
  },
  {
   "cell_type": "code",
   "execution_count": 6,
   "id": "d851fd60-9fa6-493e-a828-cc2dd1795f5d",
   "metadata": {},
   "outputs": [
    {
     "name": "stdout",
     "output_type": "stream",
     "text": [
      "0.07395202450339085 >= 0.01 --- Likely Gaussian Distribution\n"
     ]
    }
   ],
   "source": [
    "samples, seq_len, s_rate, dim = init_standard_parameters()\n",
    "\n",
    "data = sine_data_generation(samples, seq_len, s_rate, dim, mean=5, sd=1)\n",
    "\n",
    "fidelity_analysis(data, samples, seq_len, dim, unnorm=True, tol=0.01)"
   ]
  },
  {
   "cell_type": "code",
   "execution_count": null,
   "id": "5c83579c-1fe3-438e-af35-15b435d6b415",
   "metadata": {},
   "outputs": [],
   "source": []
  }
 ],
 "metadata": {
  "kernelspec": {
   "display_name": "Python 3 (ipykernel)",
   "language": "python",
   "name": "python3"
  },
  "language_info": {
   "codemirror_mode": {
    "name": "ipython",
    "version": 3
   },
   "file_extension": ".py",
   "mimetype": "text/x-python",
   "name": "python",
   "nbconvert_exporter": "python",
   "pygments_lexer": "ipython3",
   "version": "3.12.0"
  }
 },
 "nbformat": 4,
 "nbformat_minor": 5
}
