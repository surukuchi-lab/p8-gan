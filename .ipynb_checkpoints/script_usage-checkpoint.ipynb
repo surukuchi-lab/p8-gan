{
 "cells": [
  {
   "cell_type": "code",
   "execution_count": 1,
   "id": "8daa2ce6-8c6a-4281-87f5-4d65a241f859",
   "metadata": {},
   "outputs": [],
   "source": [
    "from sine_generation import *\n",
    "from ft_analysis import *"
   ]
  },
  {
   "cell_type": "code",
   "execution_count": 6,
   "id": "d851fd60-9fa6-493e-a828-cc2dd1795f5d",
   "metadata": {},
   "outputs": [
    {
     "data": {
      "image/png": "[encoded data removed]",
      "text/plain": [
       "<Figure size 640x480 with 1 Axes>"
      ]
     },
     "metadata": {},
     "output_type": "display_data"
    },
    {
     "name": "stdout",
     "output_type": "stream",
     "text": [
      "0.032106738086707325 < 0.05 --- Unlikely Gaussian Distribution\n"
     ]
    },
    {
     "ename": "AssertionError",
     "evalue": "",
     "output_type": "error",
     "traceback": [
      "\u001b[1;31m---------------------------------------------------------------------------\u001b[0m",
      "\u001b[1;31mAssertionError\u001b[0m                            Traceback (most recent call last)",
      "Cell \u001b[1;32mIn[6], line 11\u001b[0m\n\u001b[0;32m      7\u001b[0m dim\u001b[38;5;241m=\u001b[39m\u001b[38;5;241m1\u001b[39m\n\u001b[0;32m      9\u001b[0m data \u001b[38;5;241m=\u001b[39m sine_data_generation(waves\u001b[38;5;241m=\u001b[39mwaves, samples\u001b[38;5;241m=\u001b[39msamples, seq_len\u001b[38;5;241m=\u001b[39mseq_len, cycles\u001b[38;5;241m=\u001b[39mcycles, dim\u001b[38;5;241m=\u001b[39mdim) \u001b[38;5;66;03m# works\u001b[39;00m\n\u001b[1;32m---> 11\u001b[0m \u001b[38;5;28;01massert\u001b[39;00m fidelity_analysis(data, seq_len\u001b[38;5;241m=\u001b[39mseq_len, samples\u001b[38;5;241m=\u001b[39msamples, cycles\u001b[38;5;241m=\u001b[39mcycles, unnorm\u001b[38;5;241m=\u001b[39m\u001b[38;5;28;01mTrue\u001b[39;00m, plot\u001b[38;5;241m=\u001b[39m\u001b[38;5;28;01mTrue\u001b[39;00m, tol\u001b[38;5;241m=\u001b[39m\u001b[38;5;241m0.05\u001b[39m) \u001b[38;5;66;03m# test Gaussian\u001b[39;00m\n",
      "\u001b[1;31mAssertionError\u001b[0m: "
     ]
    }
   ],
   "source": [
    "#samples, seq_len, s_rate, dim = init_standard_parameters()\n",
    "f = 1000\n",
    "waves=200\n",
    "samples=1e6\n",
    "cycles=1/4*samples\n",
    "seq_len=cycles/f\n",
    "dim=1\n",
    "\n",
    "data = sine_data_generation(waves=waves, samples=samples, seq_len=seq_len, cycles=cycles, dim=dim) # works\n",
    "\n",
    "assert fidelity_analysis(data, seq_len=seq_len, samples=samples, cycles=cycles, unnorm=True, plot=True, tol=0.01) # test Gaussian"
   ]
  },
  {
   "cell_type": "code",
   "execution_count": 8,
   "id": "5654f780-96c5-4b49-8e64-7921496d36bd",
   "metadata": {},
   "outputs": [
    {
     "name": "stdout",
     "output_type": "stream",
     "text": [
      "1000000\n"
     ]
    }
   ],
   "source": [
    "f = 1000\n",
    "samples = 1e6\n",
    "cycles = 1/4 * samples # cycles/sample * samples\n",
    "seq_len = cycles/f\n",
    "\n",
    "x = fftfreq(int(samples), seq_len/samples)\n",
    "print(len(x))"
   ]
  },
  {
   "cell_type": "code",
   "execution_count": null,
   "id": "e8a5bde4-2227-4202-9679-60c6a5b83d60",
   "metadata": {},
   "outputs": [],
   "source": []
  }
 ],
 "metadata": {
  "kernelspec": {
   "display_name": "Python 3 (ipykernel)",
   "language": "python",
   "name": "python3"
  },
  "language_info": {
   "codemirror_mode": {
    "name": "ipython",
    "version": 3
   },
   "file_extension": ".py",
   "mimetype": "text/x-python",
   "name": "python",
   "nbconvert_exporter": "python",
   "pygments_lexer": "ipython3",
   "version": "3.12.0"
  }
 },
 "nbformat": 4,
 "nbformat_minor": 5
}
